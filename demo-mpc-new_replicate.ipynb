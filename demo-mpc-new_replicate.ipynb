{
 "cells": [
  {
   "cell_type": "code",
   "execution_count": 2,
   "metadata": {},
   "outputs": [
    {
     "data": {
      "text/latex": [
       "Tri-level MPC\n",
       "\\begin{align}\n",
       "\\max_{\\mathbf{d,r,\\hat{n}}} \\quad &\\sum_{t\\in\\mathcal{T}}\\sum_{(i,j) \\in \\mathcal{E}}d_{ijt}p_{ijt} \n",
       "- \\beta\\sum_{t\\in\\mathcal{T}}\\sum_{(i,j) \\in \\mathcal{E}}(r_{ijt}+d_{ijt})\\tau_{ij} \\\\\n",
       "\\rm{s.t.}\\quad & n_{i,t+1} = n_{it} - \\sum_{j: (i,j)\\in\\mathcal{E}}(d_{ijt}+r_{ijt}) \n",
       "    + \\sum_{j: (j,i)\\in\\mathcal{E}}(d_{ij,t-\\tau_{ij}}+r_{ij,t-\\tau_{ij}}) \\\\\n",
       "    & \\sum_{j:(i,j)\\in\\mathcal{E}}(d_{ijt}+r_{ijt}) \\leq n_{it} \\\\\n",
       "    & \\mathbf{d}_t \\in F(\\mathbf{n}_t) \\\\\n",
       "    & \\mathbf{r}_t \\in G(\\mathbf{n}_t, \\mathbf{\\hat{n}}_t) \\\\\n",
       "    & \\hat{n} \\in \\mathbb{Z}_+\n",
       "\\end{align} \n",
       "\n",
       "$F(\\cdot)$ is the set of optimal solution of the matching problem\n",
       "\\begin{align}\n",
       "\\max_{\\mathbf{d}} \\quad & \\sum_{(i,j)\\in\\mathcal{E}}d_{ijt}p_{ijt} \\\\\n",
       "\\quad & \\sum_{j:(i,j) in \\mathcal{E}}d_{ijt} \\leq n_{it}\\\\\n",
       "& d_{ijt} \\leq \\lambda_{ijt} \n",
       "\\end{align}\n",
       "\n",
       "$G()$ is the set of optimal solution of the rebalancing problem \n",
       "\\begin{align}\n",
       "\\min_{\\mathbf{r}} \\quad & \\sum_{(i,j)\\in\\mathcal{E}}r_{ijt}\\tau_{ij} \\\\\n",
       "\\quad & \\sum_{j:(j,i)\\in\\mathcal{E}}r_{ij} - \\sum_{j:(i,j)\\in\\mathcal{E}}r_{ij} \\geq \\hat{n}_{it} - n_{it}\n",
       "& \\sum_{j:(i,j) in \\mathcal{E}}r_{ijt} \\leq n_{it}\\\\\n",
       "\\end{align}\n",
       "\n",
       "One alternative for G is the set of optimal solution of the rebalancing problem\n",
       "\\begin{align}\n",
       "\\min_{\\mathbf{r}} \\quad & \\sum_{(i,j)\\in\\mathcal{E}}r_{ijt}\\tau_{ij} \\\\\n",
       "\\quad & \\sum_{j:(j,i)\\in\\mathcal{E}}r_{ij} = a_{it} \\\\\n",
       "& \\sum_{j:(i,j)\\in\\mathcal{E}}r_{ij} = b_{it}\\\\\n",
       "\\end{align}\n"
      ],
      "text/plain": [
       "<IPython.core.display.Latex object>"
      ]
     },
     "metadata": {},
     "output_type": "display_data"
    }
   ],
   "source": [
    "%%latex\n",
    "Tri-level MPC\n",
    "\\begin{align}\n",
    "\\max_{\\mathbf{d,r,\\hat{n}}} \\quad &\\sum_{t\\in\\mathcal{T}}\\sum_{(i,j) \\in \\mathcal{E}}d_{ijt}p_{ijt} \n",
    "- \\beta\\sum_{t\\in\\mathcal{T}}\\sum_{(i,j) \\in \\mathcal{E}}(r_{ijt}+d_{ijt})\\tau_{ij} \\\\\n",
    "\\rm{s.t.}\\quad & n_{i,t+1} = n_{it} - \\sum_{j: (i,j)\\in\\mathcal{E}}(d_{ijt}+r_{ijt}) \n",
    "    + \\sum_{j: (j,i)\\in\\mathcal{E}}(d_{ij,t-\\tau_{ij}}+r_{ij,t-\\tau_{ij}}) \\\\\n",
    "    & \\sum_{j:(i,j)\\in\\mathcal{E}}(d_{ijt}+r_{ijt}) \\leq n_{it} \\\\\n",
    "    & \\mathbf{d}_t \\in F(\\mathbf{n}_t) \\\\\n",
    "    & \\mathbf{r}_t \\in G(\\mathbf{n}_t, \\mathbf{\\hat{n}}_t) \\\\\n",
    "    & \\hat{n} \\in \\mathbb{Z}_+\n",
    "\\end{align} \n",
    "\n",
    "$F(\\cdot)$ is the set of optimal solution of the matching problem\n",
    "\\begin{align}\n",
    "\\max_{\\mathbf{d}} \\quad & \\sum_{(i,j)\\in\\mathcal{E}}d_{ijt}p_{ijt} \\\\\n",
    "\\quad & \\sum_{j:(i,j) in \\mathcal{E}}d_{ijt} \\leq n_{it}\\\\\n",
    "& d_{ijt} \\leq \\lambda_{ijt} \n",
    "\\end{align}\n",
    "\n",
    "$G()$ is the set of optimal solution of the rebalancing problem \n",
    "\\begin{align}\n",
    "\\min_{\\mathbf{r}} \\quad & \\sum_{(i,j)\\in\\mathcal{E}}r_{ijt}\\tau_{ij} \\\\\n",
    "\\quad & \\sum_{j:(j,i)\\in\\mathcal{E}}r_{ij} - \\sum_{j:(i,j)\\in\\mathcal{E}}r_{ij} \\geq \\hat{n}_{it} - n_{it}\n",
    "& \\sum_{j:(i,j) in \\mathcal{E}}r_{ijt} \\leq n_{it}\\\\\n",
    "\\end{align}\n",
    "\n",
    "One alternative for G is the set of optimal solution of the rebalancing problem\n",
    "\\begin{align}\n",
    "\\min_{\\mathbf{r}} \\quad & \\sum_{(i,j)\\in\\mathcal{E}}r_{ijt}\\tau_{ij} \\\\\n",
    "\\quad & \\sum_{j:(j,i)\\in\\mathcal{E}}r_{ij} = a_{it} \\\\\n",
    "& \\sum_{j:(i,j)\\in\\mathcal{E}}r_{ij} = b_{it}\\\\\n",
    "\\end{align}"
   ]
  },
  {
   "cell_type": "code",
   "execution_count": 3,
   "metadata": {},
   "outputs": [],
   "source": [
    "from src.envs.env_two_step import Scenario, AMoD, Star2Complete\n",
    "from src.misc.utils import mat2str, dictsum\n",
    "from src.algos.MPC import MPC\n",
    "import os\n",
    "import subprocess\n",
    "from collections import defaultdict\n",
    "import numpy as np\n",
    "platform = 'linux'\n",
    "if platform == 'windows':\n",
    "    CPLEXPATH = \"C:/Program Files/ibm/ILOG/CPLEX_Studio1210/opl/bin/x64_win64/\"\n",
    "elif platform == 'mac':\n",
    "    CPLEXPATH = \"/Applications/CPLEX_Studio1210/opl/bin/x86-64_osx/\"\n",
    "elif platform == 'linux':\n",
    "    CPLEXPATH = \"/opt/ibm/ILOG/CPLEX_Studio128/opl/bin/x86-64_linux/\"\n",
    "    \n",
    "def solveRebFlow(env,res_path,desiredAcc,CPLEXPATH):\n",
    "    t = env.time\n",
    "    accRLTuple = [(n,int(round(desiredAcc[n]))) for n in desiredAcc]\n",
    "    accTuple = [(n,int(env.acc[n][t+1])) for n in env.acc]\n",
    "    edgeAttr = [(i,j,env.G.edges[i,j]['time']) for i,j in env.G.edges]\n",
    "    modPath = os.getcwd().replace('\\\\','/')+'/mod/'\n",
    "    OPTPath = os.getcwd().replace('\\\\','/')+'/MPC/'+res_path\n",
    "    if not os.path.exists(OPTPath):\n",
    "        os.makedirs(OPTPath)\n",
    "    datafile = OPTPath + f'data_{t}.dat'\n",
    "    resfile = OPTPath + f'res_{t}.dat'\n",
    "    with open(datafile,'w') as file:\n",
    "        file.write('path=\"'+resfile+'\";\\r\\n')\n",
    "        file.write('edgeAttr='+mat2str(edgeAttr)+';\\r\\n')\n",
    "        file.write('accInitTuple='+mat2str(accTuple)+';\\r\\n')\n",
    "        file.write('accRLTuple='+mat2str(accRLTuple)+';\\r\\n')\n",
    "    modfile = modPath+'minRebDistRebOnly.mod'\n",
    "    if CPLEXPATH is None:\n",
    "        CPLEXPATH = \"/opt/ibm/ILOG/CPLEX_Studio128/opl/bin/x86-64_linux/\"\n",
    "    my_env = os.environ.copy()\n",
    "    my_env[\"LD_LIBRARY_PATH\"] = CPLEXPATH\n",
    "    out_file =  OPTPath + f'out_{t}.dat'\n",
    "    with open(out_file,'w') as output_f:\n",
    "        subprocess.check_call([CPLEXPATH+\"oplrun\", modfile, datafile], stdout=output_f, env=my_env)\n",
    "    output_f.close()\n",
    "\n",
    "    # 3. collect results from file\n",
    "    flow = defaultdict(float)\n",
    "    with open(resfile,'r', encoding=\"utf8\") as file:\n",
    "        for row in file:\n",
    "            item = row.strip().strip(';').split('=')\n",
    "            if item[0] == 'flow':\n",
    "                values = item[1].strip(')]').strip('[(').split(')(')\n",
    "                for v in values:\n",
    "                    if len(v) == 0:\n",
    "                        continue\n",
    "                    i,j,f = v.split(',')\n",
    "                    flow[int(i),int(j)] = float(f)\n",
    "    action = [flow[i,j] for i,j in env.edges]\n",
    "    return action"
   ]
  },
  {
   "cell_type": "code",
   "execution_count": 7,
   "metadata": {},
   "outputs": [
    {
     "name": "stdout",
     "output_type": "stream",
     "text": [
      "Tot Demand: 26801 -> Should be equal to 25479 as in notebooks/scenario_v2/demo-mpc-new.ipynb\n"
     ]
    }
   ],
   "source": [
    "scenario = Star2Complete(sd = 10, grid_travel_time = 2, star_demand = 6, complete_demand=0.15, \n",
    "                         star_center = [5,6,9,10], alpha = 0.3, ninit = 200, fix_price = True)\n",
    "env = AMoD(scenario)\n",
    "demand = sum([env.demand[i,j][t] for i,j in env.demand for t in range(0,60)])\n",
    "print(f\"Tot Demand: {demand} -> Should be equal to 25479 as in notebooks/scenario_v2/demo-mpc-new.ipynb\")"
   ]
  },
  {
   "cell_type": "code",
   "execution_count": 4,
   "metadata": {},
   "outputs": [
    {
     "ename": "ValueError",
     "evalue": "could not convert string to float: '-1.563194019e-13h\\x1e3'",
     "output_type": "error",
     "traceback": [
      "\u001b[0;31m---------------------------------------------------------------------------\u001b[0m",
      "\u001b[0;31mValueError\u001b[0m                                Traceback (most recent call last)",
      "\u001b[0;32m<ipython-input-4-a04706f15c1e>\u001b[0m in \u001b[0;36m<module>\u001b[0;34m\u001b[0m\n\u001b[1;32m     22\u001b[0m     \u001b[0mt\u001b[0m \u001b[0;34m=\u001b[0m \u001b[0menv\u001b[0m\u001b[0;34m.\u001b[0m\u001b[0mtime\u001b[0m\u001b[0;34m\u001b[0m\u001b[0;34m\u001b[0m\u001b[0m\n\u001b[1;32m     23\u001b[0m     \u001b[0mres_path\u001b[0m \u001b[0;34m=\u001b[0m \u001b[0;34m'tri-level/'\u001b[0m\u001b[0;34m\u001b[0m\u001b[0;34m\u001b[0m\u001b[0m\n\u001b[0;32m---> 24\u001b[0;31m     \u001b[0mdesiredAcc\u001b[0m\u001b[0;34m[\u001b[0m\u001b[0mt\u001b[0m\u001b[0;34m]\u001b[0m\u001b[0;34m,\u001b[0m \u001b[0mpaxFlow\u001b[0m\u001b[0;34m[\u001b[0m\u001b[0mt\u001b[0m\u001b[0;34m]\u001b[0m\u001b[0;34m,\u001b[0m \u001b[0mrebFlow\u001b[0m\u001b[0;34m[\u001b[0m\u001b[0mt\u001b[0m\u001b[0;34m]\u001b[0m \u001b[0;34m=\u001b[0m \u001b[0mmpc\u001b[0m\u001b[0;34m.\u001b[0m\u001b[0mtri_level\u001b[0m\u001b[0;34m(\u001b[0m\u001b[0;34m)\u001b[0m\u001b[0;34m\u001b[0m\u001b[0;34m\u001b[0m\u001b[0m\n\u001b[0m\u001b[1;32m     25\u001b[0m     \u001b[0mobs\u001b[0m\u001b[0;34m,\u001b[0m \u001b[0mreward1\u001b[0m\u001b[0;34m,\u001b[0m \u001b[0mdone\u001b[0m\u001b[0;34m,\u001b[0m \u001b[0minfo\u001b[0m \u001b[0;34m=\u001b[0m \u001b[0menv\u001b[0m\u001b[0;34m.\u001b[0m\u001b[0mpax_step\u001b[0m\u001b[0;34m(\u001b[0m\u001b[0mCPLEXPATH\u001b[0m \u001b[0;34m=\u001b[0m \u001b[0mCPLEXPATH\u001b[0m\u001b[0;34m,\u001b[0m \u001b[0mPATH\u001b[0m \u001b[0;34m=\u001b[0m \u001b[0mres_path\u001b[0m\u001b[0;34m)\u001b[0m\u001b[0;34m\u001b[0m\u001b[0;34m\u001b[0m\u001b[0m\n\u001b[1;32m     26\u001b[0m \u001b[0;34m\u001b[0m\u001b[0m\n",
      "\u001b[0;32m/mnt/array/daga_data/Github/RL-MoD/src/algos/MPC.py\u001b[0m in \u001b[0;36mtri_level\u001b[0;34m(self)\u001b[0m\n\u001b[1;32m    290\u001b[0m                             \u001b[0;32mcontinue\u001b[0m\u001b[0;34m\u001b[0m\u001b[0;34m\u001b[0m\u001b[0m\n\u001b[1;32m    291\u001b[0m                         \u001b[0mi\u001b[0m\u001b[0;34m,\u001b[0m\u001b[0mf\u001b[0m \u001b[0;34m=\u001b[0m \u001b[0mv\u001b[0m\u001b[0;34m.\u001b[0m\u001b[0msplit\u001b[0m\u001b[0;34m(\u001b[0m\u001b[0;34m','\u001b[0m\u001b[0;34m)\u001b[0m\u001b[0;34m\u001b[0m\u001b[0;34m\u001b[0m\u001b[0m\n\u001b[0;32m--> 292\u001b[0;31m                         \u001b[0mdesiredAcc\u001b[0m\u001b[0;34m[\u001b[0m\u001b[0mint\u001b[0m\u001b[0;34m(\u001b[0m\u001b[0mi\u001b[0m\u001b[0;34m)\u001b[0m\u001b[0;34m]\u001b[0m \u001b[0;34m=\u001b[0m \u001b[0mfloat\u001b[0m\u001b[0;34m(\u001b[0m\u001b[0mf\u001b[0m\u001b[0;34m)\u001b[0m\u001b[0;34m\u001b[0m\u001b[0;34m\u001b[0m\u001b[0m\n\u001b[0m\u001b[1;32m    293\u001b[0m         \u001b[0;32mreturn\u001b[0m \u001b[0mdesiredAcc\u001b[0m\u001b[0;34m,\u001b[0m \u001b[0mpaxFlow\u001b[0m\u001b[0;34m,\u001b[0m \u001b[0mrebFlow\u001b[0m\u001b[0;34m\u001b[0m\u001b[0;34m\u001b[0m\u001b[0m\n\u001b[1;32m    294\u001b[0m \u001b[0;34m\u001b[0m\u001b[0m\n",
      "\u001b[0;31mValueError\u001b[0m: could not convert string to float: '-1.563194019e-13h\\x1e3'"
     ]
    }
   ],
   "source": [
    "# three levels\n",
    "# scenario = Star2Complete(sd = 10, grid_travel_time = 2, T = 16, star_demand = 7.5, complete_demand=1.5, \n",
    "#                         star_center = [9,10,13,14], beta=0.9, alpha = 0.5, ninit = 200, fix_price = True)\n",
    "\n",
    "scenario = Star2Complete(sd = 10, grid_travel_time = 2, star_demand = 6, complete_demand=0.15, \n",
    "                         star_center = [5,6,9,10], alpha = 0.3, ninit = 200, fix_price = True)\n",
    "\n",
    "env = AMoD(scenario)\n",
    "mpc = MPC(env, CPLEXPATH, T = 12)\n",
    "opt_rew = []\n",
    "obs = env.reset()\n",
    "done = False\n",
    "served = 0\n",
    "rebcost = 0\n",
    "opcost = 0\n",
    "revenue = 0\n",
    "paxFlow = dict()\n",
    "rebFlow = dict()\n",
    "desiredAcc = dict()\n",
    "rebAction = dict()\n",
    "while(not done):\n",
    "    t = env.time\n",
    "    res_path = 'tri-level/'\n",
    "    desiredAcc[t], paxFlow[t], rebFlow[t] = mpc.tri_level() \n",
    "    obs, reward1, done, info = env.pax_step(CPLEXPATH = CPLEXPATH, PATH = res_path)\n",
    "    \n",
    "    rebAction[t] = solveRebFlow(env,'reb_'+res_path,desiredAcc[t],CPLEXPATH)\n",
    "    obs, reward2, done, info = env.reb_step(rebAction[t])\n",
    "    opt_rew.append(reward1+reward2) \n",
    "    served += info['served_demand']\n",
    "    rebcost += info['rebalancing_cost']\n",
    "    opcost += info['operating_cost']\n",
    "    revenue += info['revenue']\n",
    "print(f'Downgraded MPC (three levels): Reward {sum(opt_rew):.2f}, Revenue {revenue:.2f},Served demand {served:.2f}, Rebalancing Cost {rebcost:.2f}, Operational Cost {opcost:.2f}')\n",
    "demand = sum([env.demand[i,j][t] for i,j in env.demand for t in range(0,60)])\n",
    "print(demand, served/demand)"
   ]
  },
  {
   "cell_type": "code",
   "execution_count": null,
   "metadata": {},
   "outputs": [],
   "source": []
  }
 ],
 "metadata": {
  "kernelspec": {
   "display_name": "Python 3",
   "language": "python",
   "name": "python3"
  },
  "language_info": {
   "codemirror_mode": {
    "name": "ipython",
    "version": 3
   },
   "file_extension": ".py",
   "mimetype": "text/x-python",
   "name": "python",
   "nbconvert_exporter": "python",
   "pygments_lexer": "ipython3",
   "version": "3.7.4"
  }
 },
 "nbformat": 4,
 "nbformat_minor": 4
}
