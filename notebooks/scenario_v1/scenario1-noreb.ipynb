{
 "cells": [
  {
   "cell_type": "code",
   "execution_count": 1,
   "metadata": {},
   "outputs": [],
   "source": [
    "from env_two_step import Scenario, AMoD\n",
    "from MPC import MPC\n",
    "import os\n",
    "from util import mat2str\n",
    "import subprocess\n",
    "from collections import defaultdict\n",
    "from tqdm import trange\n",
    "import numpy as np\n",
    "\n",
    "device = 'linux'\n",
    "if device == 'windows':\n",
    "    CPLEXPATH = \"C:/Program Files/ibm/ILOG/CPLEX_Studio1210/opl/bin/x64_win64/\"\n",
    "elif device == 'mac':\n",
    "    CPLEXPATH = \"/Applications/CPLEX_Studio1210/opl/bin/x86-64_osx/\"\n",
    "elif device == 'linux':\n",
    "    CPLEXPATH = \"/opt/ibm/ILOG/CPLEX_Studio128/opl/bin/x86-64_linux/\"\n",
    "    "
   ]
  },
  {
   "cell_type": "markdown",
   "metadata": {},
   "source": [
    "### Scenario 1"
   ]
  },
  {
   "cell_type": "code",
   "execution_count": 2,
   "metadata": {},
   "outputs": [],
   "source": [
    "# three levels\n",
    "scenario = Scenario(sd=10,demand_input = {(1,6):2, (0,7):2, 'default':0.1}, fix_price=True) # uni-directional\n",
    "env = AMoD(scenario)\n",
    "mpc = MPC(env, CPLEXPATH)"
   ]
  },
  {
   "cell_type": "code",
   "execution_count": 3,
   "metadata": {},
   "outputs": [
    {
     "name": "stderr",
     "output_type": "stream",
     "text": [
      "Episode 1 | Reward: 1596.00 | Revenue: 1710.00 | ServedDemand: 230.00 | Reb. Cost: 0.0 | Oper. Cost: 114.00:   0%|          | 0/100 [00:01<?, ?it/s]"
     ]
    }
   ],
   "source": [
    "test_episodes = 100\n",
    "max_steps = 100\n",
    "epochs = trange(test_episodes) # build tqdm iterator for loop visualization\n",
    "np.random.seed(10)\n",
    "\n",
    "test_rewards = []\n",
    "test_revenue = []\n",
    "test_served_demand = []\n",
    "test_rebalancing_cost = []\n",
    "test_operating_cost = []\n",
    "action_list = []\n",
    "\n",
    "for episode in epochs:\n",
    "    try:\n",
    "        obs = env.reset()\n",
    "        episode_reward = 0\n",
    "        episode_revenue = 0\n",
    "        episode_served_demand = 0\n",
    "        episode_rebalancing_cost = 0\n",
    "        episode_operating_cost = 0\n",
    "        episode_action_list = []\n",
    "        obs = env.reset()\n",
    "        done = False\n",
    "        while(not done):\n",
    "            res_path='noreb'\n",
    "            obs, reward, done, info = env.pax_step(CPLEXPATH=CPLEXPATH,PATH=res_path)\n",
    "            episode_reward += reward \n",
    "            rebAction = [0]*(len(env.region)**2)\n",
    "            obs, reward, done, info = env.reb_step(rebAction)\n",
    "            episode_reward += reward\n",
    "            episode_served_demand += info['served_demand']\n",
    "            episode_rebalancing_cost += info['rebalancing_cost']\n",
    "            episode_operating_cost += info['operating_cost']\n",
    "            episode_revenue += info['revenue']\n",
    "        epochs.set_description(f\"Episode {episode+1} | Reward: {episode_reward:.2f} | Revenue: {episode_revenue:.2f} | ServedDemand: {episode_served_demand:.2f} \\\n",
    "| Reb. Cost: {episode_rebalancing_cost} | Oper. Cost: {episode_operating_cost:.2f}\")\n",
    "        #Adding the total reward and reduced epsilon values\n",
    "        test_rewards.append(episode_reward)\n",
    "        test_revenue.append(episode_revenue)\n",
    "        test_served_demand.append(episode_served_demand)\n",
    "        test_rebalancing_cost.append(episode_rebalancing_cost)\n",
    "        test_operating_cost.append(episode_operating_cost)\n",
    "        action_list.append(episode_action_list)\n",
    "        break\n",
    "    except KeyboardInterrupt:\n",
    "        break"
   ]
  },
  {
   "cell_type": "code",
   "execution_count": null,
   "metadata": {},
   "outputs": [],
   "source": []
  }
 ],
 "metadata": {
  "kernelspec": {
   "display_name": "Python 3",
   "language": "python",
   "name": "python3"
  },
  "language_info": {
   "codemirror_mode": {
    "name": "ipython",
    "version": 3
   },
   "file_extension": ".py",
   "mimetype": "text/x-python",
   "name": "python",
   "nbconvert_exporter": "python",
   "pygments_lexer": "ipython3",
   "version": "3.7.4"
  }
 },
 "nbformat": 4,
 "nbformat_minor": 4
}
