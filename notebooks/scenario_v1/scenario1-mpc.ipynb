{
 "cells": [
  {
   "cell_type": "code",
   "execution_count": 3,
   "metadata": {},
   "outputs": [],
   "source": [
    "from env_two_step import Scenario, AMoD\n",
    "from MPC import MPC\n",
    "import os\n",
    "from util import mat2str\n",
    "import subprocess\n",
    "from collections import defaultdict\n",
    "from tqdm import trange\n",
    "import numpy as np\n",
    "\n",
    "device = 'linux'\n",
    "if device == 'windows':\n",
    "    CPLEXPATH = \"C:/Program Files/ibm/ILOG/CPLEX_Studio1210/opl/bin/x64_win64/\"\n",
    "elif device == 'mac':\n",
    "    CPLEXPATH = \"/Applications/CPLEX_Studio1210/opl/bin/x86-64_osx/\"\n",
    "elif device == 'linux':\n",
    "    CPLEXPATH = \"/opt/ibm/ILOG/CPLEX_Studio128/opl/bin/x86-64_linux/\"\n",
    "    \n",
    "def solveRebFlow(env,res_path,desiredAcc,CPLEXPATH):\n",
    "    t = env.time\n",
    "    accRLTuple = [(n,desiredAcc[n]) for n in desiredAcc]\n",
    "    accTuple = [(n,int(env.acc[n][t])) for n in env.acc]\n",
    "    edgeAttr = [(i,j,env.G.edges[i,j]['time']) for i,j in env.G.edges]\n",
    "    modPath = os.getcwd().replace('\\\\','/')+'/mod/'\n",
    "    OPTPath = os.getcwd().replace('\\\\','/')+'/MPC/'+res_path\n",
    "    if not os.path.exists(OPTPath):\n",
    "        os.makedirs(OPTPath)\n",
    "    datafile = OPTPath + f'data_{t}.dat'\n",
    "    resfile = OPTPath + f'res_{t}.dat'\n",
    "    with open(datafile,'w') as file:\n",
    "        file.write('path=\"'+resfile+'\";\\r\\n')\n",
    "        file.write('edgeAttr='+mat2str(edgeAttr)+';\\r\\n')\n",
    "        file.write('accInitTuple='+mat2str(accTuple)+';\\r\\n')\n",
    "        file.write('accRLTuple='+mat2str(accRLTuple)+';\\r\\n')\n",
    "    modfile = modPath+'minRebDistRebOnly.mod'\n",
    "    if CPLEXPATH is None:\n",
    "        CPLEXPATH = \"/opt/ibm/ILOG/CPLEX_Studio128/opl/bin/x86-64_linux/\"\n",
    "    my_env = os.environ.copy()\n",
    "    my_env[\"LD_LIBRARY_PATH\"] = CPLEXPATH\n",
    "    out_file =  OPTPath + f'out_{t}.dat'\n",
    "    with open(out_file,'w') as output_f:\n",
    "        subprocess.check_call([CPLEXPATH+\"oplrun\", modfile, datafile], stdout=output_f, env=my_env)\n",
    "    output_f.close()\n",
    "\n",
    "    # 3. collect results from file\n",
    "    flow = defaultdict(float)\n",
    "    with open(resfile,'r', encoding=\"utf8\") as file:\n",
    "        for row in file:\n",
    "            item = row.strip().strip(';').split('=')\n",
    "            if item[0] == 'flow':\n",
    "                values = item[1].strip(')]').strip('[(').split(')(')\n",
    "                for v in values:\n",
    "                    if len(v) == 0:\n",
    "                        continue\n",
    "                    i,j,f = v.split(',')\n",
    "                    flow[int(i),int(j)] = float(f)\n",
    "    action = [flow[i,j] for i,j in env.edges]\n",
    "    return action"
   ]
  },
  {
   "cell_type": "markdown",
   "metadata": {},
   "source": [
    "### Scenario 1"
   ]
  },
  {
   "cell_type": "code",
   "execution_count": 8,
   "metadata": {},
   "outputs": [],
   "source": [
    "# three levels\n",
    "scenario = Scenario(sd=10,demand_input = {(1,6):2, (0,7):2, 'default':0.1}, fix_price=True) # uni-directional\n",
    "env = AMoD(scenario)\n",
    "mpc = MPC(env, CPLEXPATH)"
   ]
  },
  {
   "cell_type": "code",
   "execution_count": 11,
   "metadata": {},
   "outputs": [
    {
     "name": "stderr",
     "output_type": "stream",
     "text": [
      "Episode 1 | Reward: 3149.80 | Revenue: 3474.00 | ServedDemand: 388.00 | Reb. Cost: 92.60000000000002 | Oper. Cost: 324.20:   0%|          | 0/100 [00:42<?, ?it/s]"
     ]
    }
   ],
   "source": [
    "test_episodes = 100\n",
    "max_steps = 100\n",
    "epochs = trange(test_episodes) # build tqdm iterator for loop visualization\n",
    "np.random.seed(10)\n",
    "\n",
    "test_rewards = []\n",
    "test_revenue = []\n",
    "test_served_demand = []\n",
    "test_rebalancing_cost = []\n",
    "test_operating_cost = []\n",
    "action_list = []\n",
    "\n",
    "for episode in epochs:\n",
    "    try:\n",
    "        obs = env.reset()\n",
    "        episode_reward = 0\n",
    "        episode_revenue = 0\n",
    "        episode_served_demand = 0\n",
    "        episode_rebalancing_cost = 0\n",
    "        episode_operating_cost = 0\n",
    "        episode_action_list = []\n",
    "        obs = env.reset()\n",
    "        done = False\n",
    "        while(not done):\n",
    "            res_path = 'tri-level/'\n",
    "            desiredAcc = mpc.tri_level() \n",
    "            episode_action_list.append(desiredAcc)\n",
    "            obs, reward, done, info = env.pax_step(CPLEXPATH=CPLEXPATH,PATH=res_path)\n",
    "            episode_reward += reward \n",
    "            rebAction = solveRebFlow(env,'reb_'+res_path,desiredAcc,CPLEXPATH)\n",
    "            obs, reward, done, info = env.reb_step(rebAction)\n",
    "            episode_reward += reward\n",
    "            episode_served_demand += info['served_demand']\n",
    "            episode_rebalancing_cost += info['rebalancing_cost']\n",
    "            episode_operating_cost += info['operating_cost']\n",
    "            episode_revenue += info['revenue']\n",
    "        epochs.set_description(f\"Episode {episode+1} | Reward: {episode_reward:.2f} | Revenue: {episode_revenue:.2f} | ServedDemand: {episode_served_demand:.2f} \\\n",
    "| Reb. Cost: {episode_rebalancing_cost} | Oper. Cost: {episode_operating_cost:.2f}\")\n",
    "        #Adding the total reward and reduced epsilon values\n",
    "        test_rewards.append(episode_reward)\n",
    "        test_revenue.append(episode_revenue)\n",
    "        test_served_demand.append(episode_served_demand)\n",
    "        test_rebalancing_cost.append(episode_rebalancing_cost)\n",
    "        test_operating_cost.append(episode_operating_cost)\n",
    "        action_list.append(episode_action_list)\n",
    "        break\n",
    "    except KeyboardInterrupt:\n",
    "        break"
   ]
  },
  {
   "cell_type": "code",
   "execution_count": 23,
   "metadata": {},
   "outputs": [],
   "source": [
    "rl_actions = [list(list(action_list[0][t].values())/np.sum(list(action_list[0][t].values()))) for t in range(len(action_list[0]))]"
   ]
  },
  {
   "cell_type": "code",
   "execution_count": 110,
   "metadata": {},
   "outputs": [],
   "source": [
    "# three levels\n",
    "scenario = Scenario(sd=10,demand_input = {(1,6):2, (0,7):2, 'default':0.1}, fix_price=True) # uni-directional\n",
    "env = AMoD(scenario)\n",
    "mpc = MPC(env, CPLEXPATH)"
   ]
  },
  {
   "cell_type": "code",
   "execution_count": 40,
   "metadata": {},
   "outputs": [
    {
     "name": "stderr",
     "output_type": "stream",
     "text": [
      "\n",
      "\n",
      "\n",
      "  0%|          | 0/100 [00:00<?, ?it/s]\u001b[A\u001b[A\u001b[A\n",
      "\n",
      "\n",
      "Episode 1 | Reward: 3149.80 | Revenue: 3474.00 | ServedDemand: 388.00 | Reb. Cost: 92.60000000000002 | Oper. Cost: 324.20:   0%|          | 0/100 [01:02<?, ?it/s]\u001b[A\u001b[A\u001b[A"
     ]
    }
   ],
   "source": [
    "test_episodes = 100\n",
    "max_steps = 100\n",
    "epochs = trange(test_episodes) # build tqdm iterator for loop visualization\n",
    "np.random.seed(10)\n",
    "\n",
    "test_rewards = []\n",
    "test_revenue = []\n",
    "test_served_demand = []\n",
    "test_rebalancing_cost = []\n",
    "test_operating_cost = []\n",
    "action_list = []\n",
    "\n",
    "for episode in epochs:\n",
    "    try:\n",
    "        obs = env.reset()\n",
    "        episode_reward = 0\n",
    "        episode_revenue = 0\n",
    "        episode_served_demand = 0\n",
    "        episode_rebalancing_cost = 0\n",
    "        episode_operating_cost = 0\n",
    "        episode_action_list = []\n",
    "        obs = env.reset()\n",
    "        done = False\n",
    "        while(not done):\n",
    "            res_path = 'tri-level/'\n",
    "            desiredAcc = mpc.tri_level() \n",
    "            episode_action_list.append(desiredAcc)\n",
    "            obs, reward, done, info = env.pax_step(CPLEXPATH=CPLEXPATH,PATH=res_path)\n",
    "            episode_reward += reward \n",
    "            rebAction = solveRebFlow(env,'reb_'+res_path,desiredAcc,CPLEXPATH)\n",
    "            obs, reward, done, info = env.reb_step(rebAction)\n",
    "            episode_reward += reward\n",
    "            episode_served_demand += info['served_demand']\n",
    "            episode_rebalancing_cost += info['rebalancing_cost']\n",
    "            episode_operating_cost += info['operating_cost']\n",
    "            episode_revenue += info['revenue']\n",
    "        epochs.set_description(f\"Episode {episode+1} | Reward: {episode_reward:.2f} | Revenue: {episode_revenue:.2f} | ServedDemand: {episode_served_demand:.2f} \\\n",
    "| Reb. Cost: {episode_rebalancing_cost} | Oper. Cost: {episode_operating_cost:.2f}\")\n",
    "        #Adding the total reward and reduced epsilon values\n",
    "        test_rewards.append(episode_reward)\n",
    "        test_revenue.append(episode_revenue)\n",
    "        test_served_demand.append(episode_served_demand)\n",
    "        test_rebalancing_cost.append(episode_rebalancing_cost)\n",
    "        test_operating_cost.append(episode_operating_cost)\n",
    "        action_list.append(episode_action_list)\n",
    "        break\n",
    "    except KeyboardInterrupt:\n",
    "        break"
   ]
  },
  {
   "cell_type": "markdown",
   "metadata": {},
   "source": [
    "#### Policy Visualization"
   ]
  },
  {
   "cell_type": "code",
   "execution_count": 165,
   "metadata": {},
   "outputs": [],
   "source": [
    "import matplotlib.pyplot as plt"
   ]
  },
  {
   "cell_type": "code",
   "execution_count": 111,
   "metadata": {},
   "outputs": [],
   "source": [
    "_ = env.reset()"
   ]
  },
  {
   "cell_type": "code",
   "execution_count": 112,
   "metadata": {},
   "outputs": [],
   "source": [
    "cell_demand = [np.sum([env.demand[i, j][t] if i!=j else 0 for j in env.region for t in range(env.tf)]) for i in env.region]"
   ]
  },
  {
   "cell_type": "code",
   "execution_count": 113,
   "metadata": {},
   "outputs": [
    {
     "data": {
      "text/plain": [
       "[155, 167, 35, 34, 29, 51, 32, 40]"
      ]
     },
     "execution_count": 113,
     "metadata": {},
     "output_type": "execute_result"
    }
   ],
   "source": [
    "cell_demand"
   ]
  },
  {
   "cell_type": "code",
   "execution_count": 119,
   "metadata": {},
   "outputs": [
    {
     "name": "stderr",
     "output_type": "stream",
     "text": [
      "/home/daga/anaconda3/envs/pyro1/lib/python3.7/site-packages/ipykernel_launcher.py:1: RuntimeWarning: invalid value encountered in true_divide\n",
      "  \"\"\"Entry point for launching an IPython kernel.\n"
     ]
    }
   ],
   "source": [
    "rl_actions = np.array([list(list(action_list[0][t].values()))/np.sum(list(action_list[0][t].values())) for t in range(len(action_list[0]))])"
   ]
  },
  {
   "cell_type": "code",
   "execution_count": 171,
   "metadata": {},
   "outputs": [],
   "source": [
    "rl_actions_cell = np.zeros((60, 4, 2))\n",
    "for t in range(60):\n",
    "    for i in range(1, 5):\n",
    "        rl_actions_cell[t, i-1,:] = rl_actions[t][2*(i-1):2*i]\n",
    "rl_actions_cell = np.transpose(rl_actions_cell, axes=[0,2,1])\n",
    "rl_actions_cell[np.isnan(rl_actions_cell)] = 0."
   ]
  },
  {
   "cell_type": "code",
   "execution_count": 175,
   "metadata": {},
   "outputs": [
    {
     "data": {
      "text/plain": [
       "array([[0.2  , 0.05 , 0.05 , 0.   ],\n",
       "       [0.425, 0.125, 0.075, 0.075]])"
      ]
     },
     "execution_count": 175,
     "metadata": {},
     "output_type": "execute_result"
    }
   ],
   "source": [
    "rl_actions_cell[0]"
   ]
  },
  {
   "cell_type": "code",
   "execution_count": 205,
   "metadata": {},
   "outputs": [],
   "source": [
    "import matplotlib.animation as animation"
   ]
  },
  {
   "cell_type": "code",
   "execution_count": 297,
   "metadata": {},
   "outputs": [
    {
     "data": {
      "image/png": "[encoded data removed]",
      "text/plain": [
       "<Figure size 576x288 with 1 Axes>"
      ]
     },
     "metadata": {},
     "output_type": "display_data"
    }
   ],
   "source": [
    "fig, ax = plt.subplots(figsize=(8, 4))\n",
    "plt.xticks([])\n",
    "plt.yticks([])\n",
    "\n",
    "def animate(t):\n",
    "    plt.title(f\"Rebalancing Policy t={t}\")\n",
    "    for txt in ax.texts:\n",
    "        txt.set_visible(False)\n",
    "    for i, elem in enumerate(rl_actions_cell[t][0, :]):\n",
    "        ax.text(1*(i)-0.15, 0., f\"{elem:.2f}\", size=13, color=\"white\")\n",
    "    for i, elem in enumerate(rl_actions_cell[t][1, :]):\n",
    "        ax.text(1*(i)-0.15, 1., f\"{elem:.2f}\", size=13, color=\"white\")\n",
    "    ax.imshow(rl_actions_cell[t], cmap=\"winter\")\n",
    "#     imshow.set_array(rl_actions_cell[t])\n",
    "    return None\n",
    "\n",
    "anim = animation.FuncAnimation(fig, animate, frames=30, interval=1000, blit=False, repeat=True)"
   ]
  },
  {
   "cell_type": "code",
   "execution_count": 298,
   "metadata": {},
   "outputs": [
    {
     "data": {
      "image/png": "[encoded data removed]",
      "text/plain": [
       "<Figure size 432x288 with 1 Axes>"
      ]
     },
     "metadata": {
      "needs_background": "light"
     },
     "output_type": "display_data"
    }
   ],
   "source": [
    "anim.save('mpc_policy_animated.gif', writer='imagemagick')"
   ]
  },
  {
   "cell_type": "code",
   "execution_count": null,
   "metadata": {},
   "outputs": [],
   "source": []
  }
 ],
 "metadata": {
  "kernelspec": {
   "display_name": "Python 3",
   "language": "python",
   "name": "python3"
  },
  "language_info": {
   "codemirror_mode": {
    "name": "ipython",
    "version": 3
   },
   "file_extension": ".py",
   "mimetype": "text/x-python",
   "name": "python",
   "nbconvert_exporter": "python",
   "pygments_lexer": "ipython3",
   "version": "3.7.4"
  }
 },
 "nbformat": 4,
 "nbformat_minor": 4
}
